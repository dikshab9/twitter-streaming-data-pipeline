{
 "cells": [
  {
   "cell_type": "markdown",
   "metadata": {},
   "source": [
    "GOAL: Implement a data pipeline, using your programming language of choice, that outputs a machine-learning ready dataset."
   ]
  },
  {
   "cell_type": "markdown",
   "metadata": {},
   "source": [
    "Steps: <br>\n",
    "Connect to the Twitter streaming API and do a keyword search on Justin Beiber <br>\n",
    "Filter out all tweets having to do with music <br>\n",
    "Store the tweets into a database of your choosing <br>\n",
    "Avoid duplicates<br>\n",
    "Produce a count of all tweets consumed<br>\n",
    "Produce a count of unique tweets<br>"
   ]
  },
  {
   "cell_type": "markdown",
   "metadata": {},
   "source": [
    "### Import Statements"
   ]
  },
  {
   "cell_type": "code",
   "execution_count": 1,
   "metadata": {},
   "outputs": [],
   "source": [
    "import requests\n",
    "import os\n",
    "import json\n",
    "import pandas as pd"
   ]
  },
  {
   "cell_type": "markdown",
   "metadata": {},
   "source": [
    "### Generate tokens from Twitter Developer API"
   ]
  },
  {
   "cell_type": "code",
   "execution_count": 2,
   "metadata": {},
   "outputs": [],
   "source": [
    "#Enter bearer token derived from twitter Developer API\n",
    "os.environ['TOKEN'] = 'bearer-token'"
   ]
  },
  {
   "cell_type": "code",
   "execution_count": 3,
   "metadata": {},
   "outputs": [],
   "source": [
    "def auth():\n",
    "    '''\n",
    "    This method retrieves the bearer token from the environment\n",
    "    '''\n",
    "    return os.getenv('TOKEN')"
   ]
  },
  {
   "cell_type": "code",
   "execution_count": 4,
   "metadata": {},
   "outputs": [],
   "source": [
    "def create_headers(bearer_token):\n",
    "    '''\n",
    "    This methos takes the bearer token and passes it \n",
    "    for authorization. It returns headers that can be\n",
    "    used to access APIs\n",
    "    '''\n",
    "    headers = {\"Authorization\": \"Bearer {}\".format(bearer_token)}\n",
    "    return headers"
   ]
  },
  {
   "cell_type": "markdown",
   "metadata": {},
   "source": [
    "### Create URL and connect to endpoint"
   ]
  },
  {
   "cell_type": "code",
   "execution_count": 5,
   "metadata": {},
   "outputs": [],
   "source": [
    "def create_url(keyword, max_results):\n",
    "    '''\n",
    "    This method builds the request for the endpoint to be used,\n",
    "    and parameters to be passed based on the endpoint\n",
    "    '''\n",
    "    \n",
    "    #note: Since I have Essential access to Twitter API, I'm using recent search instead of full archive search\n",
    "    #refer for url access levels: https://developer.twitter.com/en/docs/twitter-api/tweets/search/introduction\n",
    "    #refer for details on Endpoint URL: https://developer.twitter.com/en/docs/twitter-api/tweets/search/api-reference/get-tweets-search-recent\n",
    "    search_url = \"https://api.twitter.com/2/tweets/search/recent\" #The recent search endpoint returns Tweets from the last seven days that match a search query.\n",
    "\n",
    "    query_params = {'query': keyword,\n",
    "                    'max_results': max_results,\n",
    "                    'expansions': 'author_id,in_reply_to_user_id,geo.place_id',\n",
    "                    'tweet.fields': 'id,text,author_id,lang',\n",
    "                    'next_token': {}}\n",
    "    return (search_url, query_params)"
   ]
  },
  {
   "cell_type": "code",
   "execution_count": 6,
   "metadata": {},
   "outputs": [],
   "source": [
    "def connect_to_endpoint(url, headers, params, next_token = None):\n",
    "    '''\n",
    "    This method uses the url, headers and parameters defined above\n",
    "    to connect to the end point\n",
    "    '''\n",
    "    params['next_token'] = next_token   #params object received from create_url function\n",
    "    response = requests.request(\"GET\", url, headers = headers, params = params)\n",
    "    print(\"Endpoint Response Code: \" + str(response.status_code))\n",
    "    if response.status_code != 200:\n",
    "        raise Exception(response.status_code, response.text)\n",
    "    return response.json()"
   ]
  },
  {
   "cell_type": "code",
   "execution_count": 7,
   "metadata": {},
   "outputs": [],
   "source": [
    "#Inputs for the request\n",
    "bearer_token = auth()\n",
    "headers = create_headers(bearer_token)\n",
    "keyword = \"(Justin Bieber)\" #keyword search on Justin Bieber\n",
    "max_results = 100 #max results limit is 10-100 for API search results with current access level"
   ]
  },
  {
   "cell_type": "markdown",
   "metadata": {},
   "source": [
    "### Append results to csv "
   ]
  },
  {
   "cell_type": "markdown",
   "metadata": {},
   "source": [
    "This step attempts to extract more than 100 results from the Twitter API using next_token in json response. it keeps on appending new results to the CSV file until next_token become None."
   ]
  },
  {
   "cell_type": "code",
   "execution_count": 8,
   "metadata": {},
   "outputs": [],
   "source": [
    "import csv\n",
    "# Create file\n",
    "csvFile = open(\"data.csv\", \"a\", newline=\"\", encoding='utf-8')\n",
    "csvWriter = csv.writer(csvFile)\n",
    "csvWriter.writerow(['author id', 'tweet_id','lang', 'text'])\n",
    "csvFile.close()"
   ]
  },
  {
   "cell_type": "code",
   "execution_count": 9,
   "metadata": {},
   "outputs": [],
   "source": [
    "def append_to_csv(json_response, fileName):\n",
    "    '''\n",
    "    This method loops through each JSON response\n",
    "    and appends data to CSV file\n",
    "    '''\n",
    "    counter = 0\n",
    "    csvFile = open(fileName, \"a\", newline=\"\", encoding='utf-8')\n",
    "    csvWriter = csv.writer(csvFile)\n",
    "\n",
    "    for tweet in json_response['data']:\n",
    "        author_id = tweet['author_id']\n",
    "        tweet_id = tweet['id']\n",
    "        lang = tweet['lang']\n",
    "        text = tweet['text']\n",
    "        res = [author_id, tweet_id, lang, text]       \n",
    "        # Append the result to the CSV file\n",
    "        csvWriter.writerow(res)  \n",
    "    csvFile.close() "
   ]
  },
  {
   "cell_type": "markdown",
   "metadata": {},
   "source": [
    "### Generate more responses based on next_token"
   ]
  },
  {
   "cell_type": "markdown",
   "metadata": {},
   "source": [
    "To retieve all tweets for the query , we have to keep sending requests using the new next_token, until no next_token exists"
   ]
  },
  {
   "cell_type": "code",
   "execution_count": 10,
   "metadata": {},
   "outputs": [
    {
     "name": "stdout",
     "output_type": "stream",
     "text": [
      "Endpoint Response Code: 200\n",
      "Endpoint Response Code: 200\n",
      "Endpoint Response Code: 200\n",
      "Endpoint Response Code: 200\n",
      "Endpoint Response Code: 200\n",
      "Endpoint Response Code: 200\n",
      "Endpoint Response Code: 200\n",
      "Endpoint Response Code: 200\n",
      "Endpoint Response Code: 200\n",
      "Endpoint Response Code: 200\n",
      "Endpoint Response Code: 200\n",
      "Endpoint Response Code: 200\n",
      "Endpoint Response Code: 200\n",
      "Endpoint Response Code: 200\n",
      "Endpoint Response Code: 200\n",
      "Endpoint Response Code: 200\n",
      "Endpoint Response Code: 200\n",
      "Endpoint Response Code: 200\n",
      "Endpoint Response Code: 200\n",
      "Endpoint Response Code: 200\n",
      "Endpoint Response Code: 200\n"
     ]
    }
   ],
   "source": [
    "import time\n",
    "url = create_url(keyword, max_results)\n",
    "#The response return from the Twitter API is in JSON format\n",
    "next_token=None\n",
    "flag = True\n",
    "counter=0\n",
    "while flag:\n",
    "    json_response = connect_to_endpoint(url[0], headers, url[1],next_token)\n",
    "    result_count=json_response['meta']['result_count']\n",
    "    #to limit number of next_tokens generated , I've used counter<10, just to ensure I don't my quota for tweets pulled\n",
    "    if 'next_token' in json_response['meta'] and counter<20:\n",
    "        next_token=json_response['meta']['next_token']\n",
    "        counter+=1\n",
    "        if result_count is not None and result_count > 0 and next_token is not None:\n",
    "            append_to_csv(json_response, \"data.csv\")\n",
    "            \n",
    "            #time.sleep() is added between calls to ensure to not spam the API with requests.\n",
    "            time.sleep(5) \n",
    "        \n",
    "    else:\n",
    "        if result_count is not None and result_count > 0:\n",
    "            append_to_csv(json_response, \"data.csv\")\n",
    "            time.sleep(5)\n",
    "        flag = False\n",
    "        next_token = None\n",
    "    time.sleep(5)"
   ]
  },
  {
   "cell_type": "markdown",
   "metadata": {},
   "source": [
    "### Store results in Pandas DataFrame"
   ]
  },
  {
   "cell_type": "code",
   "execution_count": 12,
   "metadata": {},
   "outputs": [],
   "source": [
    "twitter_response_dataframe = pd.read_csv(\"data.csv\")"
   ]
  },
  {
   "cell_type": "code",
   "execution_count": 13,
   "metadata": {},
   "outputs": [
    {
     "data": {
      "text/plain": [
       "14754"
      ]
     },
     "execution_count": 13,
     "metadata": {},
     "output_type": "execute_result"
    }
   ],
   "source": [
    "len(twitter_response_dataframe)"
   ]
  },
  {
   "cell_type": "code",
   "execution_count": 14,
   "metadata": {},
   "outputs": [
    {
     "data": {
      "text/html": [
       "<div>\n",
       "<style scoped>\n",
       "    .dataframe tbody tr th:only-of-type {\n",
       "        vertical-align: middle;\n",
       "    }\n",
       "\n",
       "    .dataframe tbody tr th {\n",
       "        vertical-align: top;\n",
       "    }\n",
       "\n",
       "    .dataframe thead th {\n",
       "        text-align: right;\n",
       "    }\n",
       "</style>\n",
       "<table border=\"1\" class=\"dataframe\">\n",
       "  <thead>\n",
       "    <tr style=\"text-align: right;\">\n",
       "      <th></th>\n",
       "      <th>author id</th>\n",
       "      <th>tweet_id</th>\n",
       "      <th>lang</th>\n",
       "      <th>text</th>\n",
       "    </tr>\n",
       "  </thead>\n",
       "  <tbody>\n",
       "    <tr>\n",
       "      <th>0</th>\n",
       "      <td>2834378727</td>\n",
       "      <td>1488070438039269377</td>\n",
       "      <td>en</td>\n",
       "      <td>RT @AwesomePrecio11: Dj Khaled ft Justin Biebe...</td>\n",
       "    </tr>\n",
       "    <tr>\n",
       "      <th>1</th>\n",
       "      <td>1357463130146820097</td>\n",
       "      <td>1488070020085301251</td>\n",
       "      <td>en</td>\n",
       "      <td>Dj Khaled ft Justin Bieber let it go #music #N...</td>\n",
       "    </tr>\n",
       "    <tr>\n",
       "      <th>2</th>\n",
       "      <td>31641350</td>\n",
       "      <td>1488067094394638339</td>\n",
       "      <td>en</td>\n",
       "      <td>#Music Essence by WizKid ft. Justin Bieber #No...</td>\n",
       "    </tr>\n",
       "    <tr>\n",
       "      <th>3</th>\n",
       "      <td>1265013369859383307</td>\n",
       "      <td>1488059532723036160</td>\n",
       "      <td>en</td>\n",
       "      <td>#NowPlaying: Peaches (Remix) [feat. Ludacris, ...</td>\n",
       "    </tr>\n",
       "    <tr>\n",
       "      <th>4</th>\n",
       "      <td>1357938465611071489</td>\n",
       "      <td>1488002270914654210</td>\n",
       "      <td>en</td>\n",
       "      <td>RT @HOODZRADIO: #Music Essence by WizKid ft. J...</td>\n",
       "    </tr>\n",
       "  </tbody>\n",
       "</table>\n",
       "</div>"
      ],
      "text/plain": [
       "             author id             tweet_id lang  \\\n",
       "0           2834378727  1488070438039269377   en   \n",
       "1  1357463130146820097  1488070020085301251   en   \n",
       "2             31641350  1488067094394638339   en   \n",
       "3  1265013369859383307  1488059532723036160   en   \n",
       "4  1357938465611071489  1488002270914654210   en   \n",
       "\n",
       "                                                text  \n",
       "0  RT @AwesomePrecio11: Dj Khaled ft Justin Biebe...  \n",
       "1  Dj Khaled ft Justin Bieber let it go #music #N...  \n",
       "2  #Music Essence by WizKid ft. Justin Bieber #No...  \n",
       "3  #NowPlaying: Peaches (Remix) [feat. Ludacris, ...  \n",
       "4  RT @HOODZRADIO: #Music Essence by WizKid ft. J...  "
      ]
     },
     "execution_count": 14,
     "metadata": {},
     "output_type": "execute_result"
    }
   ],
   "source": [
    "twitter_response_dataframe.head()"
   ]
  },
  {
   "cell_type": "markdown",
   "metadata": {},
   "source": [
    "In order to do data cleaning (remove duplicate tweets, re order columns, drop redundant columns etc.)- converted the JSON response to Pandas DataFrame"
   ]
  },
  {
   "cell_type": "code",
   "execution_count": 15,
   "metadata": {},
   "outputs": [],
   "source": [
    "#drop the lang column since it's \"en\" for entire dataset\n",
    "twitter_response_dataframe=twitter_response_dataframe.drop(['lang'],axis=1)"
   ]
  },
  {
   "cell_type": "code",
   "execution_count": 16,
   "metadata": {},
   "outputs": [],
   "source": [
    "#rename columns for readability\n",
    "twitter_response_dataframe=twitter_response_dataframe.rename(columns={'text':'tweet', 'author id':'author_id'})"
   ]
  },
  {
   "cell_type": "code",
   "execution_count": 17,
   "metadata": {},
   "outputs": [
    {
     "data": {
      "text/plain": [
       "['author_id', 'tweet_id', 'tweet']"
      ]
     },
     "execution_count": 17,
     "metadata": {},
     "output_type": "execute_result"
    }
   ],
   "source": [
    "cols = list(twitter_response_dataframe.columns.values)\n",
    "cols"
   ]
  },
  {
   "cell_type": "code",
   "execution_count": 18,
   "metadata": {},
   "outputs": [],
   "source": [
    "#reorder the columns\n",
    "twitter_response_dataframe=twitter_response_dataframe[['tweet_id','author_id','tweet']]"
   ]
  },
  {
   "cell_type": "code",
   "execution_count": 19,
   "metadata": {},
   "outputs": [
    {
     "data": {
      "text/plain": [
       "14754"
      ]
     },
     "execution_count": 19,
     "metadata": {},
     "output_type": "execute_result"
    }
   ],
   "source": [
    "len(twitter_response_dataframe)"
   ]
  },
  {
   "cell_type": "markdown",
   "metadata": {},
   "source": [
    "### Get Rid of duplicate tweets"
   ]
  },
  {
   "cell_type": "markdown",
   "metadata": {},
   "source": [
    "Note: The Third tweet looks like a duplicate of the first tweet, this can be a retweet by a different author. Assuming this as duplicate, taken necessary steps below"
   ]
  },
  {
   "cell_type": "code",
   "execution_count": 20,
   "metadata": {},
   "outputs": [],
   "source": [
    "#keep the first occuring tweet and drop all duplicate tweets\n",
    "twitter_response_dataframe=twitter_response_dataframe.drop_duplicates(subset='tweet',keep='first')"
   ]
  },
  {
   "cell_type": "code",
   "execution_count": 21,
   "metadata": {},
   "outputs": [
    {
     "data": {
      "text/plain": [
       "3399"
      ]
     },
     "execution_count": 21,
     "metadata": {},
     "output_type": "execute_result"
    }
   ],
   "source": [
    "len(twitter_response_dataframe)"
   ]
  },
  {
   "cell_type": "code",
   "execution_count": 22,
   "metadata": {},
   "outputs": [],
   "source": [
    "twitter_response_dataframe['tweet_id'] = twitter_response_dataframe['tweet_id'].apply(str)"
   ]
  },
  {
   "cell_type": "code",
   "execution_count": 23,
   "metadata": {},
   "outputs": [],
   "source": [
    "twitter_response_dataframe['author_id'] = twitter_response_dataframe['author_id'].apply(str)"
   ]
  },
  {
   "cell_type": "code",
   "execution_count": 24,
   "metadata": {},
   "outputs": [
    {
     "data": {
      "text/plain": [
       "3399"
      ]
     },
     "execution_count": 24,
     "metadata": {},
     "output_type": "execute_result"
    }
   ],
   "source": [
    "len(twitter_response_dataframe)"
   ]
  },
  {
   "cell_type": "markdown",
   "metadata": {},
   "source": [
    "### Filter tweets having to do with music"
   ]
  },
  {
   "cell_type": "code",
   "execution_count": 25,
   "metadata": {},
   "outputs": [],
   "source": [
    "twitter_response_dataframe = twitter_response_dataframe.loc[twitter_response_dataframe['tweet'].str.contains(\"#music\", case=False)]"
   ]
  },
  {
   "cell_type": "code",
   "execution_count": 26,
   "metadata": {},
   "outputs": [
    {
     "data": {
      "text/plain": [
       "86"
      ]
     },
     "execution_count": 26,
     "metadata": {},
     "output_type": "execute_result"
    }
   ],
   "source": [
    "len(twitter_response_dataframe)"
   ]
  },
  {
   "cell_type": "markdown",
   "metadata": {},
   "source": [
    "username: postgres\n",
    "password: winterWon1!\n"
   ]
  },
  {
   "cell_type": "markdown",
   "metadata": {},
   "source": [
    "### CONNECT TO DATABASE"
   ]
  },
  {
   "cell_type": "markdown",
   "metadata": {},
   "source": [
    "Here I have used Postgres DB on AWS RDS and using the psycopg2 library to connect to the database. More details in README.md"
   ]
  },
  {
   "cell_type": "code",
   "execution_count": 27,
   "metadata": {},
   "outputs": [],
   "source": [
    "#!pip install psycopg2-binary"
   ]
  },
  {
   "cell_type": "code",
   "execution_count": 28,
   "metadata": {
    "scrolled": true
   },
   "outputs": [],
   "source": [
    "import psycopg2 as ps"
   ]
  },
  {
   "cell_type": "code",
   "execution_count": 29,
   "metadata": {},
   "outputs": [
    {
     "data": {
      "text/html": [
       "<div>\n",
       "<style scoped>\n",
       "    .dataframe tbody tr th:only-of-type {\n",
       "        vertical-align: middle;\n",
       "    }\n",
       "\n",
       "    .dataframe tbody tr th {\n",
       "        vertical-align: top;\n",
       "    }\n",
       "\n",
       "    .dataframe thead th {\n",
       "        text-align: right;\n",
       "    }\n",
       "</style>\n",
       "<table border=\"1\" class=\"dataframe\">\n",
       "  <thead>\n",
       "    <tr style=\"text-align: right;\">\n",
       "      <th></th>\n",
       "      <th>tweet_id</th>\n",
       "      <th>author_id</th>\n",
       "      <th>tweet</th>\n",
       "    </tr>\n",
       "  </thead>\n",
       "  <tbody>\n",
       "    <tr>\n",
       "      <th>0</th>\n",
       "      <td>1488070438039269377</td>\n",
       "      <td>2834378727</td>\n",
       "      <td>RT @AwesomePrecio11: Dj Khaled ft Justin Biebe...</td>\n",
       "    </tr>\n",
       "    <tr>\n",
       "      <th>1</th>\n",
       "      <td>1488070020085301251</td>\n",
       "      <td>1357463130146820097</td>\n",
       "      <td>Dj Khaled ft Justin Bieber let it go #music #N...</td>\n",
       "    </tr>\n",
       "    <tr>\n",
       "      <th>2</th>\n",
       "      <td>1488067094394638339</td>\n",
       "      <td>31641350</td>\n",
       "      <td>#Music Essence by WizKid ft. Justin Bieber #No...</td>\n",
       "    </tr>\n",
       "    <tr>\n",
       "      <th>3</th>\n",
       "      <td>1488059532723036160</td>\n",
       "      <td>1265013369859383307</td>\n",
       "      <td>#NowPlaying: Peaches (Remix) [feat. Ludacris, ...</td>\n",
       "    </tr>\n",
       "    <tr>\n",
       "      <th>4</th>\n",
       "      <td>1488002270914654210</td>\n",
       "      <td>1357938465611071489</td>\n",
       "      <td>RT @HOODZRADIO: #Music Essence by WizKid ft. J...</td>\n",
       "    </tr>\n",
       "  </tbody>\n",
       "</table>\n",
       "</div>"
      ],
      "text/plain": [
       "              tweet_id            author_id  \\\n",
       "0  1488070438039269377           2834378727   \n",
       "1  1488070020085301251  1357463130146820097   \n",
       "2  1488067094394638339             31641350   \n",
       "3  1488059532723036160  1265013369859383307   \n",
       "4  1488002270914654210  1357938465611071489   \n",
       "\n",
       "                                               tweet  \n",
       "0  RT @AwesomePrecio11: Dj Khaled ft Justin Biebe...  \n",
       "1  Dj Khaled ft Justin Bieber let it go #music #N...  \n",
       "2  #Music Essence by WizKid ft. Justin Bieber #No...  \n",
       "3  #NowPlaying: Peaches (Remix) [feat. Ludacris, ...  \n",
       "4  RT @HOODZRADIO: #Music Essence by WizKid ft. J...  "
      ]
     },
     "execution_count": 29,
     "metadata": {},
     "output_type": "execute_result"
    }
   ],
   "source": [
    "twitter_response_dataframe.head()"
   ]
  },
  {
   "cell_type": "code",
   "execution_count": 31,
   "metadata": {},
   "outputs": [],
   "source": [
    "host_name = 'database-1.cp72bttmlvq7.us-west-1.rds.amazonaws.com'\n",
    "dbname = 'postgres'\n",
    "port = '5432'\n",
    "username = 'x'\n",
    "password = 'xx'"
   ]
  },
  {
   "cell_type": "code",
   "execution_count": 32,
   "metadata": {},
   "outputs": [],
   "source": [
    "def connect_to_db(host_name, dbname, port, username, password):\n",
    "    '''\n",
    "    This method is to connect to the database by passing\n",
    "    credentials\n",
    "    '''\n",
    "    try:\n",
    "        conn = ps.connect(host=host_name, database=dbname, user=username,\n",
    "        password=password, port=port)\n",
    "\n",
    "    except ps.OperationalError as e:\n",
    "        raise e\n",
    "    else:\n",
    "        print('Connected!')\n",
    "    return conn"
   ]
  },
  {
   "cell_type": "markdown",
   "metadata": {},
   "source": [
    "Note: The Cursor class in psycopg2 allows Python code to execute PostgreSQL command in a database session."
   ]
  },
  {
   "cell_type": "code",
   "execution_count": 33,
   "metadata": {},
   "outputs": [],
   "source": [
    "def create_table(curs, tablename):\n",
    "    create_table_command = (\"\"\"CREATE TABLE IF NOT EXISTS %s (\n",
    "                tweet_id VARCHAR(255) NOT NULL PRIMARY KEY,\n",
    "                author_id VARCHAR(255) NOT NULL,\n",
    "                tweet TEXT NOT NULL\n",
    "           )\"\"\")\n",
    "    curs.execute(create_table_command, [ps.extensions.AsIs(tablename)])#AsIs is to ensure that table name does not consist of the quotes"
   ]
  },
  {
   "cell_type": "code",
   "execution_count": 34,
   "metadata": {},
   "outputs": [
    {
     "name": "stdout",
     "output_type": "stream",
     "text": [
      "Connected!\n"
     ]
    }
   ],
   "source": [
    "conn = connect_to_db(host_name, dbname, port, username, password)\n",
    "curs = conn.cursor()"
   ]
  },
  {
   "cell_type": "markdown",
   "metadata": {},
   "source": [
    "#### Connection has been made successfully to the DB at this point "
   ]
  },
  {
   "cell_type": "code",
   "execution_count": 35,
   "metadata": {},
   "outputs": [],
   "source": [
    "tablename=\"TWITTERSTREAMS\"\n",
    "create_table(curs,tablename)"
   ]
  },
  {
   "cell_type": "markdown",
   "metadata": {},
   "source": [
    "Check to see if the tweet id already exists in the DB, if it exists then update the row"
   ]
  },
  {
   "cell_type": "markdown",
   "metadata": {},
   "source": [
    "### Store tweets to the database"
   ]
  },
  {
   "cell_type": "code",
   "execution_count": 36,
   "metadata": {},
   "outputs": [],
   "source": [
    "def check_if_tweet_id_exists(curs, tweet_id):\n",
    "    '''\n",
    "    This method checks if tweet_id (which is the PK)\n",
    "    already exists in the DB. This is to take care of any UniquePK violation error at a later point\n",
    "    '''\n",
    "    query = (\"\"\"SELECT tweet_id FROM TWITTERSTREAMS WHERE tweet_id = %s\"\"\")\n",
    "    curs.execute(query, (tweet_id,))\n",
    "    return curs.fetchone() is not None"
   ]
  },
  {
   "cell_type": "markdown",
   "metadata": {},
   "source": [
    "Update the table if the tweet_id exists"
   ]
  },
  {
   "cell_type": "code",
   "execution_count": 37,
   "metadata": {},
   "outputs": [],
   "source": [
    "def create_temp_df(curs,df):\n",
    "    '''\n",
    "    This method updates the DB for every unique tweet_id received from the \n",
    "    pandas dataframe\n",
    "    '''\n",
    "    tmp_df=pd.DataFrame()\n",
    "    for i, row in df.iterrows():\n",
    "        #this check is important to avoid UniquePrimaryKey violation error\n",
    "        if check_if_tweet_id_exists(curs, row['tweet_id'])==False: \n",
    "            tmp_df = tmp_df.append(row)\n",
    "    return tmp_df"
   ]
  },
  {
   "cell_type": "code",
   "execution_count": 38,
   "metadata": {},
   "outputs": [],
   "source": [
    "def insert_into_table(curs,tweet_id, author_id, tweet):\n",
    "    '''\n",
    "    This method is to insert data based on the fields specified as parameters \n",
    "    '''\n",
    "    insert_into_DB = (\"\"\"INSERT INTO TWITTERSTREAMS (tweet_id, author_id,tweet) VALUES(%s,%s,%s);\"\"\")\n",
    "    row_to_insert = (tweet_id, author_id, tweet)\n",
    "    curs.execute(insert_into_DB, row_to_insert)\n"
   ]
  },
  {
   "cell_type": "code",
   "execution_count": 39,
   "metadata": {},
   "outputs": [],
   "source": [
    "def dataFrame_to_DB(curs,df):\n",
    "    '''\n",
    "    This method iterates over all the rows of the dataframe\n",
    "    and uses the insert_into_table method to insert every row\n",
    "    '''\n",
    "    for i, row in df.iterrows():\n",
    "           insert_into_table(curs,row['tweet_id'], row['author_id'], row['tweet'])"
   ]
  },
  {
   "cell_type": "code",
   "execution_count": 40,
   "metadata": {},
   "outputs": [],
   "source": [
    "new_vid_df = create_temp_df(curs,twitter_response_dataframe)"
   ]
  },
  {
   "cell_type": "code",
   "execution_count": 41,
   "metadata": {},
   "outputs": [
    {
     "data": {
      "text/plain": [
       "86"
      ]
     },
     "execution_count": 41,
     "metadata": {},
     "output_type": "execute_result"
    }
   ],
   "source": [
    "len(new_vid_df)"
   ]
  },
  {
   "cell_type": "code",
   "execution_count": 42,
   "metadata": {},
   "outputs": [],
   "source": [
    "dataFrame_to_DB(curs, new_vid_df)\n",
    "conn.commit() #sends a commit statement to the DB"
   ]
  },
  {
   "cell_type": "code",
   "execution_count": 43,
   "metadata": {},
   "outputs": [],
   "source": [
    "#This can be used for rollbacks in case of errors which inserting rows/ updating wors\n",
    "# query = (\"rollback\")\n",
    "# curs.execute(query)"
   ]
  },
  {
   "cell_type": "code",
   "execution_count": 44,
   "metadata": {},
   "outputs": [
    {
     "name": "stdout",
     "output_type": "stream",
     "text": [
      "Connected!\n"
     ]
    },
    {
     "data": {
      "text/html": [
       "<div>\n",
       "<style scoped>\n",
       "    .dataframe tbody tr th:only-of-type {\n",
       "        vertical-align: middle;\n",
       "    }\n",
       "\n",
       "    .dataframe tbody tr th {\n",
       "        vertical-align: top;\n",
       "    }\n",
       "\n",
       "    .dataframe thead th {\n",
       "        text-align: right;\n",
       "    }\n",
       "</style>\n",
       "<table border=\"1\" class=\"dataframe\">\n",
       "  <thead>\n",
       "    <tr style=\"text-align: right;\">\n",
       "      <th></th>\n",
       "      <th>tweet_id</th>\n",
       "      <th>author_id</th>\n",
       "      <th>tweet</th>\n",
       "    </tr>\n",
       "  </thead>\n",
       "  <tbody>\n",
       "    <tr>\n",
       "      <th>0</th>\n",
       "      <td>1488070438039269377</td>\n",
       "      <td>2834378727</td>\n",
       "      <td>RT @AwesomePrecio11: Dj Khaled ft Justin Biebe...</td>\n",
       "    </tr>\n",
       "    <tr>\n",
       "      <th>1</th>\n",
       "      <td>1488070020085301251</td>\n",
       "      <td>1357463130146820097</td>\n",
       "      <td>Dj Khaled ft Justin Bieber let it go #music #N...</td>\n",
       "    </tr>\n",
       "    <tr>\n",
       "      <th>2</th>\n",
       "      <td>1488067094394638339</td>\n",
       "      <td>31641350</td>\n",
       "      <td>#Music Essence by WizKid ft. Justin Bieber #No...</td>\n",
       "    </tr>\n",
       "    <tr>\n",
       "      <th>3</th>\n",
       "      <td>1488059532723036160</td>\n",
       "      <td>1265013369859383307</td>\n",
       "      <td>#NowPlaying: Peaches (Remix) [feat. Ludacris, ...</td>\n",
       "    </tr>\n",
       "    <tr>\n",
       "      <th>4</th>\n",
       "      <td>1488002270914654210</td>\n",
       "      <td>1357938465611071489</td>\n",
       "      <td>RT @HOODZRADIO: #Music Essence by WizKid ft. J...</td>\n",
       "    </tr>\n",
       "    <tr>\n",
       "      <th>...</th>\n",
       "      <td>...</td>\n",
       "      <td>...</td>\n",
       "      <td>...</td>\n",
       "    </tr>\n",
       "    <tr>\n",
       "      <th>81</th>\n",
       "      <td>1488006648681611265</td>\n",
       "      <td>1313496680004812806</td>\n",
       "      <td>Top 50 - Malaysia CLEAN 🇲🇾:\\n\\n🥇 Justin Bieber...</td>\n",
       "    </tr>\n",
       "    <tr>\n",
       "      <th>82</th>\n",
       "      <td>1487991553243111426</td>\n",
       "      <td>1313496680004812806</td>\n",
       "      <td>Top 50 - South Korea CLEAN 🇰🇷:\\n\\n🥇 V (4 days)...</td>\n",
       "    </tr>\n",
       "    <tr>\n",
       "      <th>83</th>\n",
       "      <td>1487984012064927747</td>\n",
       "      <td>1369044145352871936</td>\n",
       "      <td>Top 100 - Australia CLEAN 🇦🇺:\\n\\n🥇 The Kid LAR...</td>\n",
       "    </tr>\n",
       "    <tr>\n",
       "      <th>84</th>\n",
       "      <td>1487984006339735554</td>\n",
       "      <td>1313496680004812806</td>\n",
       "      <td>Top 50 - Australia CLEAN 🇦🇺:\\n\\n🥇 The Kid LARO...</td>\n",
       "    </tr>\n",
       "    <tr>\n",
       "      <th>85</th>\n",
       "      <td>1487953812384067595</td>\n",
       "      <td>1369044145352871936</td>\n",
       "      <td>Top 100 - New Zealand CLEAN 🇳🇿:\\n\\n🥇 Elton Joh...</td>\n",
       "    </tr>\n",
       "  </tbody>\n",
       "</table>\n",
       "<p>86 rows × 3 columns</p>\n",
       "</div>"
      ],
      "text/plain": [
       "               tweet_id            author_id  \\\n",
       "0   1488070438039269377           2834378727   \n",
       "1   1488070020085301251  1357463130146820097   \n",
       "2   1488067094394638339             31641350   \n",
       "3   1488059532723036160  1265013369859383307   \n",
       "4   1488002270914654210  1357938465611071489   \n",
       "..                  ...                  ...   \n",
       "81  1488006648681611265  1313496680004812806   \n",
       "82  1487991553243111426  1313496680004812806   \n",
       "83  1487984012064927747  1369044145352871936   \n",
       "84  1487984006339735554  1313496680004812806   \n",
       "85  1487953812384067595  1369044145352871936   \n",
       "\n",
       "                                                tweet  \n",
       "0   RT @AwesomePrecio11: Dj Khaled ft Justin Biebe...  \n",
       "1   Dj Khaled ft Justin Bieber let it go #music #N...  \n",
       "2   #Music Essence by WizKid ft. Justin Bieber #No...  \n",
       "3   #NowPlaying: Peaches (Remix) [feat. Ludacris, ...  \n",
       "4   RT @HOODZRADIO: #Music Essence by WizKid ft. J...  \n",
       "..                                                ...  \n",
       "81  Top 50 - Malaysia CLEAN 🇲🇾:\\n\\n🥇 Justin Bieber...  \n",
       "82  Top 50 - South Korea CLEAN 🇰🇷:\\n\\n🥇 V (4 days)...  \n",
       "83  Top 100 - Australia CLEAN 🇦🇺:\\n\\n🥇 The Kid LAR...  \n",
       "84  Top 50 - Australia CLEAN 🇦🇺:\\n\\n🥇 The Kid LARO...  \n",
       "85  Top 100 - New Zealand CLEAN 🇳🇿:\\n\\n🥇 Elton Joh...  \n",
       "\n",
       "[86 rows x 3 columns]"
      ]
     },
     "execution_count": 44,
     "metadata": {},
     "output_type": "execute_result"
    }
   ],
   "source": [
    "conn = connect_to_db(host_name, dbname, port, username, password)\n",
    "query = (\"\"\"SELECT * FROM TWITTERSTREAMS\"\"\")\n",
    "pd.read_sql_query(query, conn)"
   ]
  },
  {
   "cell_type": "code",
   "execution_count": 45,
   "metadata": {},
   "outputs": [
    {
     "data": {
      "text/html": [
       "<div>\n",
       "<style scoped>\n",
       "    .dataframe tbody tr th:only-of-type {\n",
       "        vertical-align: middle;\n",
       "    }\n",
       "\n",
       "    .dataframe tbody tr th {\n",
       "        vertical-align: top;\n",
       "    }\n",
       "\n",
       "    .dataframe thead th {\n",
       "        text-align: right;\n",
       "    }\n",
       "</style>\n",
       "<table border=\"1\" class=\"dataframe\">\n",
       "  <thead>\n",
       "    <tr style=\"text-align: right;\">\n",
       "      <th></th>\n",
       "      <th>count</th>\n",
       "    </tr>\n",
       "  </thead>\n",
       "  <tbody>\n",
       "    <tr>\n",
       "      <th>0</th>\n",
       "      <td>86</td>\n",
       "    </tr>\n",
       "  </tbody>\n",
       "</table>\n",
       "</div>"
      ],
      "text/plain": [
       "   count\n",
       "0     86"
      ]
     },
     "execution_count": 45,
     "metadata": {},
     "output_type": "execute_result"
    }
   ],
   "source": [
    "#count of all tweets consumed\n",
    "query = (\"\"\"SELECT count(*) FROM TWITTERSTREAMS\"\"\")\n",
    "pd.read_sql_query(query, conn)"
   ]
  },
  {
   "cell_type": "code",
   "execution_count": 46,
   "metadata": {},
   "outputs": [
    {
     "data": {
      "text/html": [
       "<div>\n",
       "<style scoped>\n",
       "    .dataframe tbody tr th:only-of-type {\n",
       "        vertical-align: middle;\n",
       "    }\n",
       "\n",
       "    .dataframe tbody tr th {\n",
       "        vertical-align: top;\n",
       "    }\n",
       "\n",
       "    .dataframe thead th {\n",
       "        text-align: right;\n",
       "    }\n",
       "</style>\n",
       "<table border=\"1\" class=\"dataframe\">\n",
       "  <thead>\n",
       "    <tr style=\"text-align: right;\">\n",
       "      <th></th>\n",
       "      <th>count</th>\n",
       "    </tr>\n",
       "  </thead>\n",
       "  <tbody>\n",
       "    <tr>\n",
       "      <th>0</th>\n",
       "      <td>86</td>\n",
       "    </tr>\n",
       "  </tbody>\n",
       "</table>\n",
       "</div>"
      ],
      "text/plain": [
       "   count\n",
       "0     86"
      ]
     },
     "execution_count": 46,
     "metadata": {},
     "output_type": "execute_result"
    }
   ],
   "source": [
    "#count all distinct tweets\n",
    "query = (\"\"\"SELECT count(DISTINCT TWEET) FROM TWITTERSTREAMS\"\"\")\n",
    "pd.read_sql_query(query, conn)"
   ]
  },
  {
   "cell_type": "code",
   "execution_count": 47,
   "metadata": {},
   "outputs": [],
   "source": [
    "#twitter_response_dataframe.to_csv(\"output.csv\")"
   ]
  },
  {
   "cell_type": "code",
   "execution_count": null,
   "metadata": {},
   "outputs": [],
   "source": []
  }
 ],
 "metadata": {
  "kernelspec": {
   "display_name": "Python 3",
   "language": "python",
   "name": "python3"
  },
  "language_info": {
   "codemirror_mode": {
    "name": "ipython",
    "version": 3
   },
   "file_extension": ".py",
   "mimetype": "text/x-python",
   "name": "python",
   "nbconvert_exporter": "python",
   "pygments_lexer": "ipython3",
   "version": "3.8.3"
  }
 },
 "nbformat": 4,
 "nbformat_minor": 4
}
